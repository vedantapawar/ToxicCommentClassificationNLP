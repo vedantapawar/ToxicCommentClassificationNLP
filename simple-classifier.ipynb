{
 "cells": [
  {
   "cell_type": "code",
   "execution_count": 41,
   "id": "bf983008",
   "metadata": {},
   "outputs": [],
   "source": [
    "import warnings\n",
    "warnings.filterwarnings('ignore')\n",
    "import numpy as np\n",
    "import pandas as pd # to work with csv files\n",
    "\n",
    "# matplotlib imports are used to plot confusion matrices for the classifiers\n",
    "import matplotlib as mpl \n",
    "import matplotlib.cm as cm \n",
    "import matplotlib.pyplot as plt \n",
    "# Pretty display for notebooks\n",
    "%matplotlib inline\n",
    "\n",
    "# import feature extraction methods from sklearn\n",
    "from sklearn.feature_extraction.text import CountVectorizer\n",
    "from sklearn.feature_extraction import _stop_words\n",
    "\n",
    "# pre-processing of text\n",
    "import string\n",
    "import re\n",
    "\n",
    "# import classifiers from sklearn\n",
    "from sklearn.multioutput import MultiOutputClassifier\n",
    "from sklearn.ensemble import RandomForestClassifier\n",
    "from sklearn.naive_bayes import CategoricalNB\n",
    "from sklearn.linear_model import LogisticRegression\n",
    "from sklearn.svm import LinearSVC\n",
    "from sklearn.tree import DecisionTreeClassifier\n",
    "\n",
    "# import different metrics to evaluate the classifiers\n",
    "from sklearn.metrics import accuracy_score\n",
    "\n",
    "# from sklearn.model_selection import train_test_split\n",
    "from sklearn.metrics import confusion_matrix \n",
    "from sklearn import metrics\n",
    "from sklearn.model_selection import train_test_split\n",
    "\n",
    "import nltk\n",
    "from nltk.corpus import stopwords\n",
    "\n",
    "# import time function from time module to track the training duration\n",
    "from time import time"
   ]
  },
  {
   "cell_type": "code",
   "execution_count": 22,
   "id": "154fd185",
   "metadata": {},
   "outputs": [],
   "source": [
    "trainData = pd.read_csv(\"./data/train.csv\")"
   ]
  },
  {
   "cell_type": "code",
   "execution_count": 23,
   "id": "23ca9c74",
   "metadata": {},
   "outputs": [
    {
     "data": {
      "text/plain": [
       "toxic            0.095844\n",
       "severe_toxic     0.009996\n",
       "obscene          0.052948\n",
       "threat           0.002996\n",
       "insult           0.049364\n",
       "identity_hate    0.008805\n",
       "Name: mean, dtype: float64"
      ]
     },
     "execution_count": 23,
     "metadata": {},
     "output_type": "execute_result"
    }
   ],
   "source": [
    "# Sum of Classes\n",
    "np.array(trainData.describe().iloc[1].tolist()) * 159571\n",
    "# Mean of CLasses\n",
    "trainData.describe().iloc[1]"
   ]
  },
  {
   "cell_type": "code",
   "execution_count": 24,
   "id": "bb812c59",
   "metadata": {},
   "outputs": [],
   "source": [
    "stopWords = stopwords.words('english')"
   ]
  },
  {
   "cell_type": "code",
   "execution_count": 53,
   "id": "c1b5bc8a",
   "metadata": {},
   "outputs": [],
   "source": [
    "trainX = trainData[\"comment_text\"]\n",
    "trainY = trainData[[\"toxic\", \"severe_toxic\", \"obscene\", \"threat\", \"insult\", \"identity_hate\"]]"
   ]
  },
  {
   "cell_type": "code",
   "execution_count": 54,
   "id": "34c5d20c",
   "metadata": {},
   "outputs": [],
   "source": [
    "# trainX = trainX.apply(lambda x: ' '.join([word for word in x.split() if word not in (stopWords)]))\n",
    "def clean(text):\n",
    "    text = text.lower()\n",
    "    # Remove website links\n",
    "    template = re.compile(r'https?://\\S+|www\\.\\S+') \n",
    "    text = template.sub(r'', text)\n",
    "    \n",
    "    # Remove HTML tags\n",
    "    template = re.compile(r'<[^>]*>') \n",
    "    text = template.sub(r'', text)\n",
    "    \n",
    "    # Remove none ascii characters\n",
    "    template = re.compile(r'[^\\x00-\\x7E]+') \n",
    "    text = template.sub(r'', text)\n",
    "    \n",
    "    # Replace none printable characters\n",
    "    template = re.compile(r'[\\x00-\\x0F]+') \n",
    "    text = template.sub(r' ', text)\n",
    "\n",
    "    # Remove special characters\n",
    "    text = re.sub(\"'s\", '', text)\n",
    "    template = re.compile('[\"#$%&\\'()\\*\\+-/:;<=>@\\[\\]\\\\\\\\^_`{|}~]') \n",
    "    text = template.sub(r' ', text)\n",
    "    # Replace multiple punctuation \n",
    "    text = re.sub('[.!?]{2,}', '.', text)\n",
    "    text = re.sub(',+', ',', text) \n",
    "    # Remove numbers\n",
    "    text = re.sub('\\d+', ' ', text) \n",
    "        \n",
    "    # Remove extra spaces\n",
    "    text = re.sub('\\s+', ' ', text)\n",
    "    \n",
    "    # Remove spaces at the beginning and at the end of string\n",
    "    text = text.strip()\n",
    "\n",
    "    # Remove stop words from string\n",
    "    text = \" \".join([token for token in text.split() if token not in stopWords])\n",
    "    return text\n"
   ]
  },
  {
   "cell_type": "code",
   "execution_count": 55,
   "id": "3397cd7d",
   "metadata": {},
   "outputs": [
    {
     "name": "stdout",
     "output_type": "stream",
     "text": [
      "(119678,) (119678, 6)\n",
      "(39893,) (39893, 6)\n"
     ]
    }
   ],
   "source": [
    "xTrain, xVal, yTrain, yVal = train_test_split(trainX, trainY, random_state = 1)\n",
    "print(xTrain.shape, yTrain.shape)\n",
    "print(xVal.shape, yVal.shape)"
   ]
  },
  {
   "cell_type": "code",
   "execution_count": 56,
   "id": "890706ba",
   "metadata": {},
   "outputs": [
    {
     "name": "stdout",
     "output_type": "stream",
     "text": [
      "(119678, 139621) (39893, 139621)\n"
     ]
    }
   ],
   "source": [
    "# Step 2-3: Preprocess and Vectorize train and test data\n",
    "vect = CountVectorizer(preprocessor=clean) # instantiate a vectoriezer\n",
    "xTrainDTM = vect.fit_transform(xTrain)# use it to extract features from training data\n",
    "# transform testing data (using training data's features)\n",
    "xValDTM = vect.transform(xVal)\n",
    "print(xTrainDTM.shape, xValDTM.shape)"
   ]
  },
  {
   "cell_type": "code",
   "execution_count": null,
   "id": "30e09ebb",
   "metadata": {},
   "outputs": [],
   "source": [
    "dtree_model = DecisionTreeClassifier(max_depth = 2).fit(xTrainDTM, yTrain)\n",
    "dtree_predictions = dtree_model.predict(xValDTM)"
   ]
  },
  {
   "cell_type": "code",
   "execution_count": 58,
   "metadata": {},
   "outputs": [
    {
     "data": {
      "text/plain": [
       "MultiOutputClassifier(estimator=RandomForestClassifier())"
      ]
     },
     "execution_count": 58,
     "metadata": {},
     "output_type": "execute_result"
    }
   ],
   "source": [
    "# cm = confusion_matrix(yVal, dtree_predictions)\n",
    "a12 = RandomForestClassifier()\n",
    "model1 = MultiOutputClassifier(estimator= a12)\n",
    "model1.fit(xTrainDTM, yTrain)"
   ]
  },
  {
   "cell_type": "code",
   "execution_count": 59,
   "id": "2722e087",
   "metadata": {},
   "outputs": [],
   "source": [
    "predictionRandomForestVal = model1.predict(xValDTM)"
   ]
  },
  {
   "cell_type": "code",
   "execution_count": 60,
   "id": "82105f4c",
   "metadata": {},
   "outputs": [
    {
     "name": "stdout",
     "output_type": "stream",
     "text": [
      "Training Results\n",
      "toxic==> 0.9534504800340912\n",
      "severe_toxic==> 0.9900734464693054\n",
      "obscene==> 0.97668763943549\n",
      "threat==> 0.9965908806056201\n",
      "insult==> 0.9694933948311734\n",
      "identity_hate==> 0.9914020003509387\n"
     ]
    }
   ],
   "source": [
    "from sklearn.metrics import accuracy_score, classification_report\n",
    "list3 = yTrain.columns\n",
    "print(\"Training Results\")\n",
    "for i in range(len(list3)):\n",
    "    acc1 = accuracy_score(yVal.iloc[:, i], predictionRandomForestVal[:,i])\n",
    "    print(list3[i]+ \"==>\", acc1)"
   ]
  },
  {
   "cell_type": "markdown",
   "id": "82c10a7e",
   "metadata": {},
   "source": [
    "# TEST DATA"
   ]
  },
  {
   "cell_type": "code",
   "execution_count": 61,
   "id": "bd0498a5",
   "metadata": {},
   "outputs": [],
   "source": [
    "testData = pd.read_csv(\"./data/test.csv\")\n",
    "testX = testData[\"comment_text\"]"
   ]
  },
  {
   "cell_type": "code",
   "execution_count": 62,
   "id": "09d0b2b7",
   "metadata": {},
   "outputs": [
    {
     "name": "stdout",
     "output_type": "stream",
     "text": [
      "(153164, 139621)\n"
     ]
    }
   ],
   "source": [
    "testXDTM = vect.transform(testX)\n",
    "print(testXDTM.shape)"
   ]
  },
  {
   "cell_type": "code",
   "execution_count": 63,
   "id": "42808d55",
   "metadata": {},
   "outputs": [],
   "source": [
    "predictionRandomForestTest = model1.predict(testXDTM)"
   ]
  }
 ],
 "metadata": {
  "kernelspec": {
   "display_name": "Python 3 (ipykernel)",
   "language": "python",
   "name": "python3"
  },
  "language_info": {
   "codemirror_mode": {
    "name": "ipython",
    "version": 3
   },
   "file_extension": ".py",
   "mimetype": "text/x-python",
   "name": "python",
   "nbconvert_exporter": "python",
   "pygments_lexer": "ipython3",
   "version": "3.8.10"
  }
 },
 "nbformat": 4,
 "nbformat_minor": 5
}
